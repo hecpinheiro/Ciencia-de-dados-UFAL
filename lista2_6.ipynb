{
  "nbformat": 4,
  "nbformat_minor": 0,
  "metadata": {
    "colab": {
      "name": "Questao6",
      "provenance": [],
      "authorship_tag": "ABX9TyP2FkwS6kbBwWYVR/tZPkEW",
      "include_colab_link": true
    },
    "kernelspec": {
      "name": "python3",
      "display_name": "Python 3"
    },
    "language_info": {
      "name": "python"
    }
  },
  "cells": [
    {
      "cell_type": "markdown",
      "metadata": {
        "id": "view-in-github",
        "colab_type": "text"
      },
      "source": [
        "<a href=\"https://colab.research.google.com/github/hecpinheiro/Ciencia-de-dados-UFAL/blob/main/lista2_6.ipynb\" target=\"_parent\"><img src=\"https://colab.research.google.com/assets/colab-badge.svg\" alt=\"Open In Colab\"/></a>"
      ]
    },
    {
      "cell_type": "code",
      "metadata": {
        "id": "2ggVWyhArGuh"
      },
      "source": [
        "import pandas as pd\n",
        "import matplotlib.pyplot as plt\n"
      ],
      "execution_count": null,
      "outputs": []
    },
    {
      "cell_type": "code",
      "metadata": {
        "id": "bI75-BUosCHs"
      },
      "source": [
        "index = ['Recebidos', 'Processados']\n",
        "colunas = ['Janeiro', 'Fevereiro', 'Março', 'Abril', 'Maio', 'Junho', 'Julho', 'Agosto', 'Setembro', 'Outubro', 'Novembro', 'Dezembro']\n",
        "dados = ([160, 184, 241,\t149, 180,\t161, 132,\t202, 160,\t139, 149,\t177], [160,\t184, 237,\t148, 181,\t150, 123,\t156, 126,\t104, 124,\t140])"
      ],
      "execution_count": null,
      "outputs": []
    },
    {
      "cell_type": "code",
      "metadata": {
        "colab": {
          "base_uri": "https://localhost:8080/",
          "height": 131
        },
        "id": "IRxX5Z72sBSL",
        "outputId": "85af52fb-90f3-4af3-f803-880ec6147636"
      },
      "source": [
        "dataframe = pd.DataFrame(index=index, columns=colunas, data=dados)\n",
        "\n",
        "dataframe\n",
        "\n"
      ],
      "execution_count": null,
      "outputs": [
        {
          "output_type": "execute_result",
          "data": {
            "text/html": [
              "<div>\n",
              "<style scoped>\n",
              "    .dataframe tbody tr th:only-of-type {\n",
              "        vertical-align: middle;\n",
              "    }\n",
              "\n",
              "    .dataframe tbody tr th {\n",
              "        vertical-align: top;\n",
              "    }\n",
              "\n",
              "    .dataframe thead th {\n",
              "        text-align: right;\n",
              "    }\n",
              "</style>\n",
              "<table border=\"1\" class=\"dataframe\">\n",
              "  <thead>\n",
              "    <tr style=\"text-align: right;\">\n",
              "      <th></th>\n",
              "      <th>Janeiro</th>\n",
              "      <th>Fevereiro</th>\n",
              "      <th>Março</th>\n",
              "      <th>Abril</th>\n",
              "      <th>Maio</th>\n",
              "      <th>Junho</th>\n",
              "      <th>Julho</th>\n",
              "      <th>Agosto</th>\n",
              "      <th>Setembro</th>\n",
              "      <th>Outubro</th>\n",
              "      <th>Novembro</th>\n",
              "      <th>Dezembro</th>\n",
              "    </tr>\n",
              "  </thead>\n",
              "  <tbody>\n",
              "    <tr>\n",
              "      <th>Recebidos</th>\n",
              "      <td>160</td>\n",
              "      <td>184</td>\n",
              "      <td>241</td>\n",
              "      <td>149</td>\n",
              "      <td>180</td>\n",
              "      <td>161</td>\n",
              "      <td>132</td>\n",
              "      <td>202</td>\n",
              "      <td>160</td>\n",
              "      <td>139</td>\n",
              "      <td>149</td>\n",
              "      <td>177</td>\n",
              "    </tr>\n",
              "    <tr>\n",
              "      <th>Processados</th>\n",
              "      <td>160</td>\n",
              "      <td>184</td>\n",
              "      <td>237</td>\n",
              "      <td>148</td>\n",
              "      <td>181</td>\n",
              "      <td>150</td>\n",
              "      <td>123</td>\n",
              "      <td>156</td>\n",
              "      <td>126</td>\n",
              "      <td>104</td>\n",
              "      <td>124</td>\n",
              "      <td>140</td>\n",
              "    </tr>\n",
              "  </tbody>\n",
              "</table>\n",
              "</div>"
            ],
            "text/plain": [
              "             Janeiro  Fevereiro  Março  ...  Outubro  Novembro  Dezembro\n",
              "Recebidos        160        184    241  ...      139       149       177\n",
              "Processados      160        184    237  ...      104       124       140\n",
              "\n",
              "[2 rows x 12 columns]"
            ]
          },
          "metadata": {
            "tags": []
          },
          "execution_count": 14
        }
      ]
    },
    {
      "cell_type": "code",
      "metadata": {
        "colab": {
          "base_uri": "https://localhost:8080/",
          "height": 265
        },
        "id": "fziNfUpC3PMD",
        "outputId": "792450bd-c90e-429d-c167-1f8de9d41352"
      },
      "source": [
        "dataframe.transpose().plot(kind = 'line')\n",
        "plt.show()"
      ],
      "execution_count": null,
      "outputs": [
        {
          "output_type": "display_data",
          "data": {
            "image/png": "[encoded data removed]",
            "text/plain": [
              "<Figure size 432x288 with 1 Axes>"
            ]
          },
          "metadata": {
            "tags": [],
            "needs_background": "light"
          }
        }
      ]
    }
  ]
}