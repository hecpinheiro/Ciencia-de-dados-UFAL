{
  "nbformat": 4,
  "nbformat_minor": 0,
  "metadata": {
    "colab": {
      "name": "Ciência de Dados Lista 1",
      "provenance": [],
      "collapsed_sections": [],
      "include_colab_link": true
    },
    "kernelspec": {
      "display_name": "Python 3",
      "name": "python3"
    }
  },
  "cells": [
    {
      "cell_type": "markdown",
      "metadata": {
        "id": "view-in-github",
        "colab_type": "text"
      },
      "source": [
        "<a href=\"https://colab.research.google.com/github/hecpinheiro/Ciencia-de-dados-UFAL/blob/main/Ci%C3%AAncia_de_Dados_Lista_1.ipynb\" target=\"_parent\"><img src=\"https://colab.research.google.com/assets/colab-badge.svg\" alt=\"Open In Colab\"/></a>"
      ]
    },
    {
      "cell_type": "markdown",
      "metadata": {
        "id": "P8STq4zwvT4e"
      },
      "source": [
        "Crie um conjunto de dados com duas variáveis V1 e V2, tal que:"
      ]
    },
    {
      "cell_type": "code",
      "metadata": {
        "id": "OvEcIGKMT7aV"
      },
      "source": [
        "import pandas as pd\n",
        "import numpy as np\n",
        "import matplotlib.pyplot as plt\n",
        "from scipy.stats import normaltest\n",
        "\n",
        "data = pd.read_csv('https://raw.githubusercontent.com/hecpinheiro/Ciencia-de-dados-UFAL/main/data.csv')\n"
      ],
      "execution_count": 4,
      "outputs": []
    },
    {
      "cell_type": "markdown",
      "metadata": {
        "id": "L6_Dn04OwCX-"
      },
      "source": [
        "a. Mediana de V1 < Média de V1"
      ]
    },
    {
      "cell_type": "code",
      "metadata": {
        "colab": {
          "base_uri": "https://localhost:8080/"
        },
        "id": "LIyWL0C1vilb",
        "outputId": "ea6c8a1d-84b0-475b-9a35-c41daf808ec3"
      },
      "source": [
        "mediaV1 = np.mean(data['V1'])\n",
        "medianaV1 = np.median(data['V1'])\n",
        "\n",
        "print(\"Média de V1:\", mediaV1)\n",
        "print(\"Mediana de V1:\", medianaV1)\n"
      ],
      "execution_count": 5,
      "outputs": [
        {
          "output_type": "stream",
          "text": [
            "Média de V1: 40.52\n",
            "Mediana de V1: 35.5\n"
          ],
          "name": "stdout"
        }
      ]
    },
    {
      "cell_type": "markdown",
      "metadata": {
        "id": "_XqSSR4KwNug"
      },
      "source": [
        "b. Mediana de V2 > Média de V2"
      ]
    },
    {
      "cell_type": "code",
      "metadata": {
        "colab": {
          "base_uri": "https://localhost:8080/"
        },
        "id": "69rxovSAvjyE",
        "outputId": "aa987c9c-c0a5-4da6-c199-29911c465b51"
      },
      "source": [
        "mediaV2 = np.mean(data['V2'])\n",
        "medianaV2 = np.median(data['V2'])\n",
        "\n",
        "print(\"Média de V2:\", mediaV2)\n",
        "print(\"Mediana de V2:\", medianaV2)"
      ],
      "execution_count": null,
      "outputs": [
        {
          "output_type": "stream",
          "text": [
            "Média de V2: 54.68\n",
            "Mediana de V2: 56.5\n"
          ],
          "name": "stdout"
        }
      ]
    },
    {
      "cell_type": "markdown",
      "metadata": {
        "id": "vsgxzoJ1wUsc"
      },
      "source": [
        "Baseando-se no conjunto de dados criado na questão 4, crie uma função\n",
        "em Python que:"
      ]
    },
    {
      "cell_type": "markdown",
      "metadata": {
        "id": "Q7nRE90rwv0t"
      },
      "source": [
        "a. Mostra o histograma de cada variável"
      ]
    },
    {
      "cell_type": "code",
      "metadata": {
        "colab": {
          "base_uri": "https://localhost:8080/",
          "height": 265
        },
        "id": "bBP2iZPmikFj",
        "outputId": "69605792-4852-4a56-85fd-f523a51dc481"
      },
      "source": [
        "np.histogram(data['V1'])\n",
        "\n",
        "plt.hist(data['V1'])\n",
        "plt.show()"
      ],
      "execution_count": null,
      "outputs": [
        {
          "output_type": "display_data",
          "data": {
            "image/png": "[encoded data removed]",
            "text/plain": [
              "<Figure size 432x288 with 1 Axes>"
            ]
          },
          "metadata": {
            "tags": [],
            "needs_background": "light"
          }
        }
      ]
    },
    {
      "cell_type": "code",
      "metadata": {
        "colab": {
          "base_uri": "https://localhost:8080/",
          "height": 265
        },
        "id": "aXSdgfFXi3rT",
        "outputId": "275ba6aa-9881-4f04-8a0a-e8dd842c6066"
      },
      "source": [
        "np.histogram(data['V2'])\n",
        "\n",
        "plt.hist(data['V2'])\n",
        "plt.show()"
      ],
      "execution_count": null,
      "outputs": [
        {
          "output_type": "display_data",
          "data": {
            "image/png": "[encoded data removed]",
            "text/plain": [
              "<Figure size 432x288 with 1 Axes>"
            ]
          },
          "metadata": {
            "tags": [],
            "needs_background": "light"
          }
        }
      ]
    },
    {
      "cell_type": "markdown",
      "metadata": {
        "id": "UwtD6RvtSUJi"
      },
      "source": [
        "b. Verificar se as variáveis seguem uma distribuição Normal (use teste\n",
        "de hipótese)\n"
      ]
    },
    {
      "cell_type": "code",
      "metadata": {
        "id": "yHLi5kg5Sw1p",
        "colab": {
          "base_uri": "https://localhost:8080/"
        },
        "outputId": "ed5b3c87-c46c-4b04-d255-cc5aa736f7c9"
      },
      "source": [
        "significancia = 0.05\n",
        "stat_test, p_valor = normaltest(data.V1)\n",
        "\n",
        "p_valor < significancia"
      ],
      "execution_count": 9,
      "outputs": [
        {
          "output_type": "execute_result",
          "data": {
            "text/plain": [
              "True"
            ]
          },
          "metadata": {
            "tags": []
          },
          "execution_count": 9
        }
      ]
    },
    {
      "cell_type": "code",
      "metadata": {
        "colab": {
          "base_uri": "https://localhost:8080/"
        },
        "id": "5L4rcUGBTyEJ",
        "outputId": "fc63fec9-25f7-479b-97d2-2c7b522c8362"
      },
      "source": [
        "significancia = 0.05\n",
        "stat_test, p_valor = normaltest(data.V2)\n",
        "\n",
        "p_valor < significancia"
      ],
      "execution_count": 10,
      "outputs": [
        {
          "output_type": "execute_result",
          "data": {
            "text/plain": [
              "True"
            ]
          },
          "metadata": {
            "tags": []
          },
          "execution_count": 10
        }
      ]
    }
  ]
}
