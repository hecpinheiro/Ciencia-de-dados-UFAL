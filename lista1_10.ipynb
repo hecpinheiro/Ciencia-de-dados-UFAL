{
  "nbformat": 4,
  "nbformat_minor": 0,
  "metadata": {
    "colab": {
      "name": "lista1.10.ipynb",
      "provenance": [],
      "authorship_tag": "ABX9TyOAeZIX1eUCYD2yMCrBRU9z"
    },
    "kernelspec": {
      "name": "python3",
      "display_name": "Python 3"
    },
    "language_info": {
      "name": "python"
    }
  },
  "cells": [
    {
      "cell_type": "code",
      "metadata": {
        "id": "39Y6X90l0_RF"
      },
      "source": [
        "from sklearn import datasets\n",
        "import pandas as pd\n",
        "from sklearn.model_selection import cross_val_score\n",
        "from sklearn.neighbors import KNeighborsClassifier\n",
        "from sklearn.metrics import f1_score"
      ],
      "execution_count": 59,
      "outputs": []
    },
    {
      "cell_type": "code",
      "metadata": {
        "id": "893puHXwLelh"
      },
      "source": [
        "iris = datasets.load_iris()"
      ],
      "execution_count": null,
      "outputs": []
    },
    {
      "cell_type": "markdown",
      "metadata": {
        "id": "DBMdb1fxLmkN"
      },
      "source": [
        "**K-NN com K = 5**"
      ]
    },
    {
      "cell_type": "code",
      "metadata": {
        "colab": {
          "base_uri": "https://localhost:8080/"
        },
        "id": "3cR0w7pzMVKJ",
        "outputId": "87bc5479-4d68-45ea-e55a-5a12d502222a"
      },
      "source": [
        "neigh = KNeighborsClassifier(n_neighbors=5)\n",
        "neigh.fit(iris.data , iris.target)"
      ],
      "execution_count": null,
      "outputs": [
        {
          "output_type": "execute_result",
          "data": {
            "text/plain": [
              "KNeighborsClassifier(algorithm='auto', leaf_size=30, metric='minkowski',\n",
              "                     metric_params=None, n_jobs=None, n_neighbors=5, p=2,\n",
              "                     weights='uniform')"
            ]
          },
          "metadata": {
            "tags": []
          },
          "execution_count": 56
        }
      ]
    },
    {
      "cell_type": "code",
      "metadata": {
        "colab": {
          "base_uri": "https://localhost:8080/"
        },
        "id": "4tbfJ9DzMVKN",
        "outputId": "384dba18-9093-4b36-adf3-de3fb954ca24"
      },
      "source": [
        "scores_cv = cross_val_score(neigh, iris.data, iris.target, cv=5, scoring='accuracy')\n",
        "\n",
        "scores_cv.mean()"
      ],
      "execution_count": null,
      "outputs": [
        {
          "output_type": "execute_result",
          "data": {
            "text/plain": [
              "0.9733333333333334"
            ]
          },
          "metadata": {
            "tags": []
          },
          "execution_count": 62
        }
      ]
    },
    {
      "cell_type": "markdown",
      "metadata": {
        "id": "_5Lr-RB1MYDo"
      },
      "source": [
        "**K-NN com K = 10**"
      ]
    },
    {
      "cell_type": "code",
      "metadata": {
        "colab": {
          "base_uri": "https://localhost:8080/"
        },
        "id": "DTXW9ubfL98w",
        "outputId": "3b06e3b3-68cd-4ca0-c216-9074db852fc7"
      },
      "source": [
        "neigh2 = KNeighborsClassifier(n_neighbors=10)\n",
        "neigh2.fit(iris.data , iris.target)"
      ],
      "execution_count": 65,
      "outputs": [
        {
          "output_type": "execute_result",
          "data": {
            "text/plain": [
              "KNeighborsClassifier(algorithm='auto', leaf_size=30, metric='minkowski',\n",
              "                     metric_params=None, n_jobs=None, n_neighbors=10, p=2,\n",
              "                     weights='uniform')"
            ]
          },
          "metadata": {
            "tags": []
          },
          "execution_count": 65
        }
      ]
    },
    {
      "cell_type": "code",
      "metadata": {
        "colab": {
          "base_uri": "https://localhost:8080/"
        },
        "id": "TymJfIcYL99R",
        "outputId": "e7546dba-20b9-4c68-8032-747b29dcb0f7"
      },
      "source": [
        "scores_cv = cross_val_score(neigh2, iris.data, iris.target, cv=5, scoring='accuracy')\n",
        "\n",
        "scores_cv.mean()"
      ],
      "execution_count": 66,
      "outputs": [
        {
          "output_type": "execute_result",
          "data": {
            "text/plain": [
              "0.9800000000000001"
            ]
          },
          "metadata": {
            "tags": []
          },
          "execution_count": 66
        }
      ]
    },
    {
      "cell_type": "markdown",
      "metadata": {
        "id": "zmMdWF1mMhGU"
      },
      "source": [
        "**K-NN com K = 15**\n",
        "\n",
        "\n"
      ]
    },
    {
      "cell_type": "code",
      "metadata": {
        "colab": {
          "base_uri": "https://localhost:8080/"
        },
        "id": "HBNuahQ4MH2k",
        "outputId": "81e9a02c-0337-42df-967c-fd4637196246"
      },
      "source": [
        "neigh3 = KNeighborsClassifier(n_neighbors=15)\n",
        "neigh3.fit(iris.data , iris.target)"
      ],
      "execution_count": 67,
      "outputs": [
        {
          "output_type": "execute_result",
          "data": {
            "text/plain": [
              "KNeighborsClassifier(algorithm='auto', leaf_size=30, metric='minkowski',\n",
              "                     metric_params=None, n_jobs=None, n_neighbors=15, p=2,\n",
              "                     weights='uniform')"
            ]
          },
          "metadata": {
            "tags": []
          },
          "execution_count": 67
        }
      ]
    },
    {
      "cell_type": "code",
      "metadata": {
        "colab": {
          "base_uri": "https://localhost:8080/"
        },
        "id": "GTT5EV2BMH2o",
        "outputId": "5e728922-8116-4b8d-89ab-87d4c7364e89"
      },
      "source": [
        "scores_cv = cross_val_score(neigh3, iris.data, iris.target, cv=5, scoring='accuracy')\n",
        "\n",
        "scores_cv.mean()"
      ],
      "execution_count": 68,
      "outputs": [
        {
          "output_type": "execute_result",
          "data": {
            "text/plain": [
              "0.9666666666666668"
            ]
          },
          "metadata": {
            "tags": []
          },
          "execution_count": 68
        }
      ]
    }
  ]
}