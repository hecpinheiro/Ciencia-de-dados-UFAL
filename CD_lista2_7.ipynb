{
  "nbformat": 4,
  "nbformat_minor": 0,
  "metadata": {
    "colab": {
      "name": "CD lista2.7",
      "provenance": [],
      "authorship_tag": "ABX9TyPzdzBK6QCXUWccfRUMUkzz",
      "include_colab_link": true
    },
    "kernelspec": {
      "name": "python3",
      "display_name": "Python 3"
    },
    "language_info": {
      "name": "python"
    }
  },
  "cells": [
    {
      "cell_type": "markdown",
      "metadata": {
        "id": "view-in-github",
        "colab_type": "text"
      },
      "source": [
        "<a href=\"https://colab.research.google.com/github/hecpinheiro/Ciencia-de-dados-UFAL/blob/main/CD_lista2_7.ipynb\" target=\"_parent\"><img src=\"https://colab.research.google.com/assets/colab-badge.svg\" alt=\"Open In Colab\"/></a>"
      ]
    },
    {
      "cell_type": "code",
      "metadata": {
        "id": "2ggVWyhArGuh"
      },
      "source": [
        "import pandas as pd\n",
        "from sklearn.feature_extraction.text import CountVectorizer\n",
        "from sklearn.naive_bayes import MultinomialNB\n",
        "from sklearn.metrics import accuracy_score, classification_report\n",
        "from sklearn.model_selection import cross_val_predict"
      ],
      "execution_count": 1,
      "outputs": []
    },
    {
      "cell_type": "markdown",
      "metadata": {
        "id": "wh1sz2kXH5WP"
      },
      "source": [
        "Base de dados\n"
      ]
    },
    {
      "cell_type": "code",
      "metadata": {
        "id": "ag51PwZ4bANL"
      },
      "source": [
        "colunas = ['Texto', 'Classe']\n",
        "dados = (['They are novels', 'stms'],['have you read this book', 'question'],['who is the author', 'question'],['what are the characters', 'question'],['This is how I bought the book', 'stms'],['I like fictions', 'stms'],['what is your favorite book', 'question'],['This is my book', 'stms'])\n"
      ],
      "execution_count": 2,
      "outputs": []
    },
    {
      "cell_type": "code",
      "metadata": {
        "colab": {
          "base_uri": "https://localhost:8080/",
          "height": 297
        },
        "id": "J_ZEjI7QbmvJ",
        "outputId": "7ad0d928-f236-4fb8-82a2-33fbdc8d0376"
      },
      "source": [
        "dataPhrase = pd.DataFrame(columns=colunas, data=dados)\n",
        "\n",
        "dataPhrase"
      ],
      "execution_count": 4,
      "outputs": [
        {
          "output_type": "execute_result",
          "data": {
            "text/html": [
              "<div>\n",
              "<style scoped>\n",
              "    .dataframe tbody tr th:only-of-type {\n",
              "        vertical-align: middle;\n",
              "    }\n",
              "\n",
              "    .dataframe tbody tr th {\n",
              "        vertical-align: top;\n",
              "    }\n",
              "\n",
              "    .dataframe thead th {\n",
              "        text-align: right;\n",
              "    }\n",
              "</style>\n",
              "<table border=\"1\" class=\"dataframe\">\n",
              "  <thead>\n",
              "    <tr style=\"text-align: right;\">\n",
              "      <th></th>\n",
              "      <th>Texto</th>\n",
              "      <th>Classe</th>\n",
              "    </tr>\n",
              "  </thead>\n",
              "  <tbody>\n",
              "    <tr>\n",
              "      <th>0</th>\n",
              "      <td>They are novels</td>\n",
              "      <td>stms</td>\n",
              "    </tr>\n",
              "    <tr>\n",
              "      <th>1</th>\n",
              "      <td>have you read this book</td>\n",
              "      <td>question</td>\n",
              "    </tr>\n",
              "    <tr>\n",
              "      <th>2</th>\n",
              "      <td>who is the author</td>\n",
              "      <td>question</td>\n",
              "    </tr>\n",
              "    <tr>\n",
              "      <th>3</th>\n",
              "      <td>what are the characters</td>\n",
              "      <td>question</td>\n",
              "    </tr>\n",
              "    <tr>\n",
              "      <th>4</th>\n",
              "      <td>This is how I bought the book</td>\n",
              "      <td>stms</td>\n",
              "    </tr>\n",
              "    <tr>\n",
              "      <th>5</th>\n",
              "      <td>I like fictions</td>\n",
              "      <td>stms</td>\n",
              "    </tr>\n",
              "    <tr>\n",
              "      <th>6</th>\n",
              "      <td>what is your favorite book</td>\n",
              "      <td>question</td>\n",
              "    </tr>\n",
              "    <tr>\n",
              "      <th>7</th>\n",
              "      <td>This is my book</td>\n",
              "      <td>stms</td>\n",
              "    </tr>\n",
              "  </tbody>\n",
              "</table>\n",
              "</div>"
            ],
            "text/plain": [
              "                           Texto    Classe\n",
              "0                They are novels      stms\n",
              "1        have you read this book  question\n",
              "2              who is the author  question\n",
              "3        what are the characters  question\n",
              "4  This is how I bought the book      stms\n",
              "5                I like fictions      stms\n",
              "6     what is your favorite book  question\n",
              "7                This is my book      stms"
            ]
          },
          "metadata": {
            "tags": []
          },
          "execution_count": 4
        }
      ]
    },
    {
      "cell_type": "markdown",
      "metadata": {
        "id": "yPGskTNdIHVa"
      },
      "source": [
        "###Construindo o modelo\n",
        "\n",
        "Separando as frases e os sentimentos"
      ]
    },
    {
      "cell_type": "code",
      "metadata": {
        "colab": {
          "base_uri": "https://localhost:8080/"
        },
        "id": "i2oYyfuHg4Ua",
        "outputId": "d9e8e3cc-cc97-485f-b4cc-c5f01843cda0"
      },
      "source": [
        "phrase = dataPhrase['Texto'].values\n",
        "phrase"
      ],
      "execution_count": 12,
      "outputs": [
        {
          "output_type": "execute_result",
          "data": {
            "text/plain": [
              "array(['They are novels', 'have you read this book', 'who is the author',\n",
              "       'what are the characters', 'This is how I bought the book',\n",
              "       'I like fictions', 'what is your favorite book', 'This is my book'],\n",
              "      dtype=object)"
            ]
          },
          "metadata": {
            "tags": []
          },
          "execution_count": 12
        }
      ]
    },
    {
      "cell_type": "code",
      "metadata": {
        "colab": {
          "base_uri": "https://localhost:8080/"
        },
        "id": "SPJRia3B52ZI",
        "outputId": "d4a09292-90a4-4def-b8ee-b450ba81eadb"
      },
      "source": [
        "kind = dataPhrase['Classe'].values\n",
        "kind"
      ],
      "execution_count": 10,
      "outputs": [
        {
          "output_type": "execute_result",
          "data": {
            "text/plain": [
              "array(['stms', 'question', 'question', 'question', 'stms', 'stms',\n",
              "       'question', 'stms'], dtype=object)"
            ]
          },
          "metadata": {
            "tags": []
          },
          "execution_count": 10
        }
      ]
    },
    {
      "cell_type": "code",
      "metadata": {
        "colab": {
          "base_uri": "https://localhost:8080/"
        },
        "id": "PQQC4c5XGM9u",
        "outputId": "ecfdefd4-8141-43b8-ce3b-dce4ecf3f05d"
      },
      "source": [
        "vectorizer = CountVectorizer(analyzer=\"word\")\n",
        "frequence = vectorizer.fit_transform(phrase)\n",
        "\n",
        "modelo = MultinomialNB()\n",
        "modelo.fit(frequence, kind)"
      ],
      "execution_count": 18,
      "outputs": [
        {
          "output_type": "execute_result",
          "data": {
            "text/plain": [
              "MultinomialNB(alpha=1.0, class_prior=None, fit_prior=True)"
            ]
          },
          "metadata": {
            "tags": []
          },
          "execution_count": 18
        }
      ]
    },
    {
      "cell_type": "markdown",
      "metadata": {
        "id": "sylvOr9NI8nN"
      },
      "source": [
        "###Testando modelo"
      ]
    },
    {
      "cell_type": "code",
      "metadata": {
        "colab": {
          "base_uri": "https://localhost:8080/"
        },
        "id": "mvCuFvChGsmu",
        "outputId": "01ecfd26-5367-4396-bf40-6acd17506a1b"
      },
      "source": [
        "\n",
        "phrase_test = [\"What do you mean\"]\n",
        "\n",
        "frequence_test = vectorizer.transform(phrase_test)\n",
        "print(modelo.predict(frequence_test))"
      ],
      "execution_count": 17,
      "outputs": [
        {
          "output_type": "stream",
          "text": [
            "['question']\n"
          ],
          "name": "stdout"
        }
      ]
    }
  ]
}